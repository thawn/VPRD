{
 "cells": [
  {
   "cell_type": "markdown",
   "metadata": {},
   "source": [
    "# Train a Multi-Layer-Perceptron Model to Predict Energy Curves\n",
    "\n",
    "use merged data"
   ]
  },
  {
   "cell_type": "code",
   "execution_count": 1,
   "metadata": {},
   "outputs": [],
   "source": [
    "from pathlib import Path\n",
    "from ipywidgets import interact, fixed\n",
    "import vprd\n",
    "import pandas as pd\n",
    "import numpy as np\n",
    "import matplotlib.pyplot as plt\n",
    "import torch\n",
    "import torch.nn as nn\n",
    "import seaborn as sns\n",
    "import lightning as pl\n",
    "from lightning.pytorch.callbacks import LearningRateMonitor\n",
    "from lightning.pytorch.callbacks import EarlyStopping\n",
    "from tensorboard.backend.event_processing.event_accumulator import EventAccumulator\n",
    "import scipy.stats as stats\n",
    "from statsmodels.stats.multitest import multipletests\n",
    "\n",
    "# figure parameters\n",
    "plt.rcParams['svg.fonttype'] = 'none'  # makes text editable in svg\n",
    "plt.rcParams['font.size'] = 8\n",
    "plt.rcParams['axes.labelsize'] = 8\n",
    "plt.rcParams['axes.titlesize'] = 10\n",
    "plt.rcParams['xtick.labelsize'] = 6\n",
    "plt.rcParams['ytick.labelsize'] = plt.rcParams['xtick.labelsize']\n",
    "\n",
    "# figure sizes\n",
    "textwidth = 7.05  # inches\n",
    "onecolumn = 3.42  # inches\n",
    "# set the default figure size to one column width\n",
    "plt.rcParams['figure.figsize'] = (onecolumn, onecolumn)"
   ]
  },
  {
   "cell_type": "markdown",
   "metadata": {},
   "source": [
    "## Load and prepare the data"
   ]
  },
  {
   "cell_type": "code",
   "execution_count": 2,
   "metadata": {},
   "outputs": [
    {
     "data": {
      "text/html": [
       "<div>\n",
       "<style scoped>\n",
       "    .dataframe tbody tr th:only-of-type {\n",
       "        vertical-align: middle;\n",
       "    }\n",
       "\n",
       "    .dataframe tbody tr th {\n",
       "        vertical-align: top;\n",
       "    }\n",
       "\n",
       "    .dataframe thead th {\n",
       "        text-align: right;\n",
       "    }\n",
       "</style>\n",
       "<table border=\"1\" class=\"dataframe\">\n",
       "  <thead>\n",
       "    <tr style=\"text-align: right;\">\n",
       "      <th></th>\n",
       "      <th>index</th>\n",
       "      <th>TrainId</th>\n",
       "      <th>Electron_power</th>\n",
       "      <th>/FLASH_SDIAG/BCM_DAQ/FL0_DBC1_1/COMPRESSION_TD</th>\n",
       "      <th>/FLASH_SDIAG/BCM_DAQ/FL0_DBC1_1/COMPRESSION_normalized_TD</th>\n",
       "      <th>/FLASH_SDIAG/BCM_DAQ/FL0_DBC1_2/COMPRESSION_TD</th>\n",
       "      <th>/FLASH_SDIAG/BCM_DAQ/FL0_DBC1_2/COMPRESSION_normalized_TD</th>\n",
       "      <th>/FLASH_SDIAG/BCM_DAQ/FL0_DBC2_1/COMPRESSION_TD</th>\n",
       "      <th>/FLASH_SDIAG/BCM_DAQ/FL0_DBC2_1/COMPRESSION_normalized_TD</th>\n",
       "      <th>/FLASH_SDIAG/BCM_DAQ/FL0_DBC2_2/COMPRESSION_TD</th>\n",
       "      <th>...</th>\n",
       "      <th>/FLASH_SDIAG/BAM_DAQ/FL0_DBC2_ARRIVAL_TIME_RELATIVE/Value</th>\n",
       "      <th>/FLASH_SDIAG/BAM_DAQ/FL0_UBC1_ARRIVAL_TIME_RELATIVE/Value</th>\n",
       "      <th>/FLASH_SDIAG/BAM_DAQ/FL0_UBC2_ARRIVAL_TIME_RELATIVE/Value</th>\n",
       "      <th>/FLASH_SDIAG/BAM_DAQ/FL2_SEED5_ARRIVAL_TIME_RELATIVE/Value</th>\n",
       "      <th>/FLASH_DIAG/TOROID/7FL2XTDS/CHARGE_TD</th>\n",
       "      <th>/FLASH_DIAG/BPM/9FL2XTDS/CHARGE_TD</th>\n",
       "      <th>/FLASH_DIAG/BPM/9FL2XTDS/X_TD</th>\n",
       "      <th>/FLASH_DIAG/BPM/9FL2XTDS/Y_TD</th>\n",
       "      <th>/FLASH_SDIAG/BAM_DAQ/FL0_DBC_ARRIVAL_TIME_1_DELTA/Value</th>\n",
       "      <th>/FLASH_SDIAG/BAM_DAQ/FL0_DBC_ARRIVAL_TIME_2_DELTA/Value</th>\n",
       "    </tr>\n",
       "  </thead>\n",
       "  <tbody>\n",
       "    <tr>\n",
       "      <th>0</th>\n",
       "      <td>0</td>\n",
       "      <td>1942830449</td>\n",
       "      <td>[1662811600.0, 1349448800.0, 1751699800.0, 181...</td>\n",
       "      <td>0.013977</td>\n",
       "      <td>0.348380</td>\n",
       "      <td>0.091400</td>\n",
       "      <td>2.278164</td>\n",
       "      <td>0.074997</td>\n",
       "      <td>1.845281</td>\n",
       "      <td>0.121796</td>\n",
       "      <td>...</td>\n",
       "      <td>-220.290619</td>\n",
       "      <td>104.842995</td>\n",
       "      <td>61.064560</td>\n",
       "      <td>0.000000</td>\n",
       "      <td>0.19975</td>\n",
       "      <td>0.312712</td>\n",
       "      <td>3.350192</td>\n",
       "      <td>0.666741</td>\n",
       "      <td>-158.124146</td>\n",
       "      <td>-281.355164</td>\n",
       "    </tr>\n",
       "    <tr>\n",
       "      <th>1</th>\n",
       "      <td>1</td>\n",
       "      <td>1942830450</td>\n",
       "      <td>[1967650400.0, 2245198300.0, 2240654300.0, 259...</td>\n",
       "      <td>0.013916</td>\n",
       "      <td>0.346859</td>\n",
       "      <td>0.091583</td>\n",
       "      <td>2.282728</td>\n",
       "      <td>0.070892</td>\n",
       "      <td>1.739970</td>\n",
       "      <td>0.117287</td>\n",
       "      <td>...</td>\n",
       "      <td>-261.015320</td>\n",
       "      <td>155.832520</td>\n",
       "      <td>64.939682</td>\n",
       "      <td>0.000000</td>\n",
       "      <td>0.20020</td>\n",
       "      <td>0.313796</td>\n",
       "      <td>3.352160</td>\n",
       "      <td>0.641766</td>\n",
       "      <td>-212.231873</td>\n",
       "      <td>-325.955017</td>\n",
       "    </tr>\n",
       "    <tr>\n",
       "      <th>2</th>\n",
       "      <td>2</td>\n",
       "      <td>1942830451</td>\n",
       "      <td>[1386138800.0, 1067803460.0, 1238563600.0, 124...</td>\n",
       "      <td>0.014160</td>\n",
       "      <td>0.356138</td>\n",
       "      <td>0.090637</td>\n",
       "      <td>2.279587</td>\n",
       "      <td>0.069534</td>\n",
       "      <td>1.720248</td>\n",
       "      <td>0.113998</td>\n",
       "      <td>...</td>\n",
       "      <td>-264.227295</td>\n",
       "      <td>118.235802</td>\n",
       "      <td>38.283401</td>\n",
       "      <td>0.000000</td>\n",
       "      <td>0.19915</td>\n",
       "      <td>0.311799</td>\n",
       "      <td>3.350848</td>\n",
       "      <td>0.631928</td>\n",
       "      <td>-182.867188</td>\n",
       "      <td>-302.510681</td>\n",
       "    </tr>\n",
       "    <tr>\n",
       "      <th>3</th>\n",
       "      <td>3</td>\n",
       "      <td>1942830452</td>\n",
       "      <td>[1033531300.0, 1054784450.0, 1347648800.0, 166...</td>\n",
       "      <td>0.014252</td>\n",
       "      <td>0.356649</td>\n",
       "      <td>0.091309</td>\n",
       "      <td>2.284999</td>\n",
       "      <td>0.070473</td>\n",
       "      <td>1.739136</td>\n",
       "      <td>0.116226</td>\n",
       "      <td>...</td>\n",
       "      <td>-279.466400</td>\n",
       "      <td>121.219620</td>\n",
       "      <td>47.366535</td>\n",
       "      <td>0.000000</td>\n",
       "      <td>0.19920</td>\n",
       "      <td>0.312148</td>\n",
       "      <td>3.348224</td>\n",
       "      <td>0.605440</td>\n",
       "      <td>-180.267105</td>\n",
       "      <td>-326.832947</td>\n",
       "    </tr>\n",
       "    <tr>\n",
       "      <th>4</th>\n",
       "      <td>4</td>\n",
       "      <td>1942830453</td>\n",
       "      <td>[1613813100.0, 1686847600.0, 1710520800.0, 148...</td>\n",
       "      <td>0.013397</td>\n",
       "      <td>0.338816</td>\n",
       "      <td>0.090607</td>\n",
       "      <td>2.291443</td>\n",
       "      <td>0.070549</td>\n",
       "      <td>1.769915</td>\n",
       "      <td>0.117233</td>\n",
       "      <td>...</td>\n",
       "      <td>-257.225800</td>\n",
       "      <td>125.389000</td>\n",
       "      <td>54.010460</td>\n",
       "      <td>0.000000</td>\n",
       "      <td>0.19805</td>\n",
       "      <td>0.309478</td>\n",
       "      <td>3.344944</td>\n",
       "      <td>0.613008</td>\n",
       "      <td>-149.830109</td>\n",
       "      <td>-311.236267</td>\n",
       "    </tr>\n",
       "    <tr>\n",
       "      <th>...</th>\n",
       "      <td>...</td>\n",
       "      <td>...</td>\n",
       "      <td>...</td>\n",
       "      <td>...</td>\n",
       "      <td>...</td>\n",
       "      <td>...</td>\n",
       "      <td>...</td>\n",
       "      <td>...</td>\n",
       "      <td>...</td>\n",
       "      <td>...</td>\n",
       "      <td>...</td>\n",
       "      <td>...</td>\n",
       "      <td>...</td>\n",
       "      <td>...</td>\n",
       "      <td>...</td>\n",
       "      <td>...</td>\n",
       "      <td>...</td>\n",
       "      <td>...</td>\n",
       "      <td>...</td>\n",
       "      <td>...</td>\n",
       "      <td>...</td>\n",
       "    </tr>\n",
       "    <tr>\n",
       "      <th>2821</th>\n",
       "      <td>701</td>\n",
       "      <td>1942833280</td>\n",
       "      <td>[1545094400.0, 1464527400.0, 1686040400.0, 211...</td>\n",
       "      <td>0.013794</td>\n",
       "      <td>0.346406</td>\n",
       "      <td>0.091064</td>\n",
       "      <td>2.286891</td>\n",
       "      <td>0.069237</td>\n",
       "      <td>1.726600</td>\n",
       "      <td>0.116127</td>\n",
       "      <td>...</td>\n",
       "      <td>3199.421387</td>\n",
       "      <td>95.763153</td>\n",
       "      <td>50.104500</td>\n",
       "      <td>915.777893</td>\n",
       "      <td>0.19845</td>\n",
       "      <td>0.307937</td>\n",
       "      <td>3.297712</td>\n",
       "      <td>1.471219</td>\n",
       "      <td>-24.689453</td>\n",
       "      <td>3149.316895</td>\n",
       "    </tr>\n",
       "    <tr>\n",
       "      <th>2822</th>\n",
       "      <td>702</td>\n",
       "      <td>1942833281</td>\n",
       "      <td>[1687414700.0, 1671712500.0, 1802142300.0, 171...</td>\n",
       "      <td>0.013336</td>\n",
       "      <td>0.336933</td>\n",
       "      <td>0.090881</td>\n",
       "      <td>2.296079</td>\n",
       "      <td>0.070290</td>\n",
       "      <td>1.757240</td>\n",
       "      <td>0.117294</td>\n",
       "      <td>...</td>\n",
       "      <td>3176.591797</td>\n",
       "      <td>70.574585</td>\n",
       "      <td>34.945549</td>\n",
       "      <td>913.403259</td>\n",
       "      <td>0.19795</td>\n",
       "      <td>0.307196</td>\n",
       "      <td>3.302304</td>\n",
       "      <td>1.437920</td>\n",
       "      <td>-18.579449</td>\n",
       "      <td>3141.646240</td>\n",
       "    </tr>\n",
       "    <tr>\n",
       "      <th>2823</th>\n",
       "      <td>703</td>\n",
       "      <td>1942833282</td>\n",
       "      <td>[2133312600.0, 2140152700.0, 2141127400.0, 251...</td>\n",
       "      <td>0.012634</td>\n",
       "      <td>0.320326</td>\n",
       "      <td>0.090424</td>\n",
       "      <td>2.292573</td>\n",
       "      <td>0.074982</td>\n",
       "      <td>1.880179</td>\n",
       "      <td>0.119492</td>\n",
       "      <td>...</td>\n",
       "      <td>3217.532715</td>\n",
       "      <td>22.281994</td>\n",
       "      <td>84.973656</td>\n",
       "      <td>908.230225</td>\n",
       "      <td>0.19790</td>\n",
       "      <td>0.306707</td>\n",
       "      <td>3.303616</td>\n",
       "      <td>1.434893</td>\n",
       "      <td>85.547791</td>\n",
       "      <td>3132.559082</td>\n",
       "    </tr>\n",
       "    <tr>\n",
       "      <th>2824</th>\n",
       "      <td>704</td>\n",
       "      <td>1942833283</td>\n",
       "      <td>[2425803300.0, 2622600400.0, 2758704600.0, 282...</td>\n",
       "      <td>0.012787</td>\n",
       "      <td>0.320312</td>\n",
       "      <td>0.091187</td>\n",
       "      <td>2.284229</td>\n",
       "      <td>0.071724</td>\n",
       "      <td>1.766502</td>\n",
       "      <td>0.118690</td>\n",
       "      <td>...</td>\n",
       "      <td>3214.079834</td>\n",
       "      <td>112.387871</td>\n",
       "      <td>112.746269</td>\n",
       "      <td>911.354187</td>\n",
       "      <td>0.19890</td>\n",
       "      <td>0.308870</td>\n",
       "      <td>3.304928</td>\n",
       "      <td>1.428082</td>\n",
       "      <td>13.353401</td>\n",
       "      <td>3101.333496</td>\n",
       "    </tr>\n",
       "    <tr>\n",
       "      <th>2825</th>\n",
       "      <td>705</td>\n",
       "      <td>1942833284</td>\n",
       "      <td>[1810752100.0, 2282217500.0, 2482402300.0, 247...</td>\n",
       "      <td>0.013123</td>\n",
       "      <td>0.332204</td>\n",
       "      <td>0.090790</td>\n",
       "      <td>2.298385</td>\n",
       "      <td>0.072701</td>\n",
       "      <td>1.825719</td>\n",
       "      <td>0.114708</td>\n",
       "      <td>...</td>\n",
       "      <td>3217.682617</td>\n",
       "      <td>83.504539</td>\n",
       "      <td>59.241947</td>\n",
       "      <td>912.444397</td>\n",
       "      <td>0.19745</td>\n",
       "      <td>0.306929</td>\n",
       "      <td>3.304928</td>\n",
       "      <td>1.427325</td>\n",
       "      <td>6.843376</td>\n",
       "      <td>3158.440674</td>\n",
       "    </tr>\n",
       "  </tbody>\n",
       "</table>\n",
       "<p>2826 rows × 26 columns</p>\n",
       "</div>"
      ],
      "text/plain": [
       "      index     TrainId                                     Electron_power  \\\n",
       "0         0  1942830449  [1662811600.0, 1349448800.0, 1751699800.0, 181...   \n",
       "1         1  1942830450  [1967650400.0, 2245198300.0, 2240654300.0, 259...   \n",
       "2         2  1942830451  [1386138800.0, 1067803460.0, 1238563600.0, 124...   \n",
       "3         3  1942830452  [1033531300.0, 1054784450.0, 1347648800.0, 166...   \n",
       "4         4  1942830453  [1613813100.0, 1686847600.0, 1710520800.0, 148...   \n",
       "...     ...         ...                                                ...   \n",
       "2821    701  1942833280  [1545094400.0, 1464527400.0, 1686040400.0, 211...   \n",
       "2822    702  1942833281  [1687414700.0, 1671712500.0, 1802142300.0, 171...   \n",
       "2823    703  1942833282  [2133312600.0, 2140152700.0, 2141127400.0, 251...   \n",
       "2824    704  1942833283  [2425803300.0, 2622600400.0, 2758704600.0, 282...   \n",
       "2825    705  1942833284  [1810752100.0, 2282217500.0, 2482402300.0, 247...   \n",
       "\n",
       "      /FLASH_SDIAG/BCM_DAQ/FL0_DBC1_1/COMPRESSION_TD  \\\n",
       "0                                           0.013977   \n",
       "1                                           0.013916   \n",
       "2                                           0.014160   \n",
       "3                                           0.014252   \n",
       "4                                           0.013397   \n",
       "...                                              ...   \n",
       "2821                                        0.013794   \n",
       "2822                                        0.013336   \n",
       "2823                                        0.012634   \n",
       "2824                                        0.012787   \n",
       "2825                                        0.013123   \n",
       "\n",
       "      /FLASH_SDIAG/BCM_DAQ/FL0_DBC1_1/COMPRESSION_normalized_TD  \\\n",
       "0                                              0.348380           \n",
       "1                                              0.346859           \n",
       "2                                              0.356138           \n",
       "3                                              0.356649           \n",
       "4                                              0.338816           \n",
       "...                                                 ...           \n",
       "2821                                           0.346406           \n",
       "2822                                           0.336933           \n",
       "2823                                           0.320326           \n",
       "2824                                           0.320312           \n",
       "2825                                           0.332204           \n",
       "\n",
       "      /FLASH_SDIAG/BCM_DAQ/FL0_DBC1_2/COMPRESSION_TD  \\\n",
       "0                                           0.091400   \n",
       "1                                           0.091583   \n",
       "2                                           0.090637   \n",
       "3                                           0.091309   \n",
       "4                                           0.090607   \n",
       "...                                              ...   \n",
       "2821                                        0.091064   \n",
       "2822                                        0.090881   \n",
       "2823                                        0.090424   \n",
       "2824                                        0.091187   \n",
       "2825                                        0.090790   \n",
       "\n",
       "      /FLASH_SDIAG/BCM_DAQ/FL0_DBC1_2/COMPRESSION_normalized_TD  \\\n",
       "0                                              2.278164           \n",
       "1                                              2.282728           \n",
       "2                                              2.279587           \n",
       "3                                              2.284999           \n",
       "4                                              2.291443           \n",
       "...                                                 ...           \n",
       "2821                                           2.286891           \n",
       "2822                                           2.296079           \n",
       "2823                                           2.292573           \n",
       "2824                                           2.284229           \n",
       "2825                                           2.298385           \n",
       "\n",
       "      /FLASH_SDIAG/BCM_DAQ/FL0_DBC2_1/COMPRESSION_TD  \\\n",
       "0                                           0.074997   \n",
       "1                                           0.070892   \n",
       "2                                           0.069534   \n",
       "3                                           0.070473   \n",
       "4                                           0.070549   \n",
       "...                                              ...   \n",
       "2821                                        0.069237   \n",
       "2822                                        0.070290   \n",
       "2823                                        0.074982   \n",
       "2824                                        0.071724   \n",
       "2825                                        0.072701   \n",
       "\n",
       "      /FLASH_SDIAG/BCM_DAQ/FL0_DBC2_1/COMPRESSION_normalized_TD  \\\n",
       "0                                              1.845281           \n",
       "1                                              1.739970           \n",
       "2                                              1.720248           \n",
       "3                                              1.739136           \n",
       "4                                              1.769915           \n",
       "...                                                 ...           \n",
       "2821                                           1.726600           \n",
       "2822                                           1.757240           \n",
       "2823                                           1.880179           \n",
       "2824                                           1.766502           \n",
       "2825                                           1.825719           \n",
       "\n",
       "      /FLASH_SDIAG/BCM_DAQ/FL0_DBC2_2/COMPRESSION_TD  ...  \\\n",
       "0                                           0.121796  ...   \n",
       "1                                           0.117287  ...   \n",
       "2                                           0.113998  ...   \n",
       "3                                           0.116226  ...   \n",
       "4                                           0.117233  ...   \n",
       "...                                              ...  ...   \n",
       "2821                                        0.116127  ...   \n",
       "2822                                        0.117294  ...   \n",
       "2823                                        0.119492  ...   \n",
       "2824                                        0.118690  ...   \n",
       "2825                                        0.114708  ...   \n",
       "\n",
       "      /FLASH_SDIAG/BAM_DAQ/FL0_DBC2_ARRIVAL_TIME_RELATIVE/Value  \\\n",
       "0                                           -220.290619           \n",
       "1                                           -261.015320           \n",
       "2                                           -264.227295           \n",
       "3                                           -279.466400           \n",
       "4                                           -257.225800           \n",
       "...                                                 ...           \n",
       "2821                                        3199.421387           \n",
       "2822                                        3176.591797           \n",
       "2823                                        3217.532715           \n",
       "2824                                        3214.079834           \n",
       "2825                                        3217.682617           \n",
       "\n",
       "      /FLASH_SDIAG/BAM_DAQ/FL0_UBC1_ARRIVAL_TIME_RELATIVE/Value  \\\n",
       "0                                            104.842995           \n",
       "1                                            155.832520           \n",
       "2                                            118.235802           \n",
       "3                                            121.219620           \n",
       "4                                            125.389000           \n",
       "...                                                 ...           \n",
       "2821                                          95.763153           \n",
       "2822                                          70.574585           \n",
       "2823                                          22.281994           \n",
       "2824                                         112.387871           \n",
       "2825                                          83.504539           \n",
       "\n",
       "      /FLASH_SDIAG/BAM_DAQ/FL0_UBC2_ARRIVAL_TIME_RELATIVE/Value  \\\n",
       "0                                             61.064560           \n",
       "1                                             64.939682           \n",
       "2                                             38.283401           \n",
       "3                                             47.366535           \n",
       "4                                             54.010460           \n",
       "...                                                 ...           \n",
       "2821                                          50.104500           \n",
       "2822                                          34.945549           \n",
       "2823                                          84.973656           \n",
       "2824                                         112.746269           \n",
       "2825                                          59.241947           \n",
       "\n",
       "      /FLASH_SDIAG/BAM_DAQ/FL2_SEED5_ARRIVAL_TIME_RELATIVE/Value  \\\n",
       "0                                              0.000000            \n",
       "1                                              0.000000            \n",
       "2                                              0.000000            \n",
       "3                                              0.000000            \n",
       "4                                              0.000000            \n",
       "...                                                 ...            \n",
       "2821                                         915.777893            \n",
       "2822                                         913.403259            \n",
       "2823                                         908.230225            \n",
       "2824                                         911.354187            \n",
       "2825                                         912.444397            \n",
       "\n",
       "      /FLASH_DIAG/TOROID/7FL2XTDS/CHARGE_TD  \\\n",
       "0                                   0.19975   \n",
       "1                                   0.20020   \n",
       "2                                   0.19915   \n",
       "3                                   0.19920   \n",
       "4                                   0.19805   \n",
       "...                                     ...   \n",
       "2821                                0.19845   \n",
       "2822                                0.19795   \n",
       "2823                                0.19790   \n",
       "2824                                0.19890   \n",
       "2825                                0.19745   \n",
       "\n",
       "      /FLASH_DIAG/BPM/9FL2XTDS/CHARGE_TD  /FLASH_DIAG/BPM/9FL2XTDS/X_TD  \\\n",
       "0                               0.312712                       3.350192   \n",
       "1                               0.313796                       3.352160   \n",
       "2                               0.311799                       3.350848   \n",
       "3                               0.312148                       3.348224   \n",
       "4                               0.309478                       3.344944   \n",
       "...                                  ...                            ...   \n",
       "2821                            0.307937                       3.297712   \n",
       "2822                            0.307196                       3.302304   \n",
       "2823                            0.306707                       3.303616   \n",
       "2824                            0.308870                       3.304928   \n",
       "2825                            0.306929                       3.304928   \n",
       "\n",
       "      /FLASH_DIAG/BPM/9FL2XTDS/Y_TD  \\\n",
       "0                          0.666741   \n",
       "1                          0.641766   \n",
       "2                          0.631928   \n",
       "3                          0.605440   \n",
       "4                          0.613008   \n",
       "...                             ...   \n",
       "2821                       1.471219   \n",
       "2822                       1.437920   \n",
       "2823                       1.434893   \n",
       "2824                       1.428082   \n",
       "2825                       1.427325   \n",
       "\n",
       "      /FLASH_SDIAG/BAM_DAQ/FL0_DBC_ARRIVAL_TIME_1_DELTA/Value  \\\n",
       "0                                           -158.124146         \n",
       "1                                           -212.231873         \n",
       "2                                           -182.867188         \n",
       "3                                           -180.267105         \n",
       "4                                           -149.830109         \n",
       "...                                                 ...         \n",
       "2821                                         -24.689453         \n",
       "2822                                         -18.579449         \n",
       "2823                                          85.547791         \n",
       "2824                                          13.353401         \n",
       "2825                                           6.843376         \n",
       "\n",
       "      /FLASH_SDIAG/BAM_DAQ/FL0_DBC_ARRIVAL_TIME_2_DELTA/Value  \n",
       "0                                           -281.355164        \n",
       "1                                           -325.955017        \n",
       "2                                           -302.510681        \n",
       "3                                           -326.832947        \n",
       "4                                           -311.236267        \n",
       "...                                                 ...        \n",
       "2821                                        3149.316895        \n",
       "2822                                        3141.646240        \n",
       "2823                                        3132.559082        \n",
       "2824                                        3101.333496        \n",
       "2825                                        3158.440674        \n",
       "\n",
       "[2826 rows x 26 columns]"
      ]
     },
     "execution_count": 2,
     "metadata": {},
     "output_type": "execute_result"
    }
   ],
   "source": [
    "data_path = Path('../../data')\n",
    "local_data_path = Path(data_path / 'cloud/')\n",
    "energy_file = local_data_path / 'electron_power_data_files_114_115_116_117.hdf5'\n",
    "\n",
    "# ensure the data is downloaded (if not already)\n",
    "vprd.data.ensure_local(energy_file)\n",
    "\n",
    "#load the energy data\n",
    "df = pd.read_hdf(energy_file, key='df')\n",
    "df"
   ]
  },
  {
   "cell_type": "markdown",
   "metadata": {},
   "source": [
    "## Split the Data into training and test sets\n",
    "\n",
    "the resulting data loaders can be directly used for training."
   ]
  },
  {
   "cell_type": "code",
   "execution_count": 3,
   "metadata": {},
   "outputs": [
    {
     "name": "stdout",
     "output_type": "stream",
     "text": [
      "Batches in training data loader: 1\n",
      "Batches in validation data loader: 1\n",
      "Batches in test data loader: 1\n",
      "Number of samples in training data loader: 2261\n",
      "Number of samples in validation data loader: 283\n",
      "Number of samples in test data loader: 282\n",
      "Total number of samples: 2826\n"
     ]
    }
   ],
   "source": [
    "training_data_loader, validation_data_loader, test_data_loader = vprd.data.get_train_val_test_dataloader(df)\n",
    "print(f\"Batches in training data loader: {len(training_data_loader)}\")\n",
    "print(f\"Batches in validation data loader: {len(validation_data_loader)}\")\n",
    "print(f\"Batches in test data loader: {len(test_data_loader)}\")\n",
    "print(f\"Number of samples in training data loader: {len(training_data_loader.dataset)}\")\n",
    "print(f\"Number of samples in validation data loader: {len(validation_data_loader.dataset)}\")\n",
    "print(f\"Number of samples in test data loader: {len(test_data_loader.dataset)}\")\n",
    "print(f\"Total number of samples: {len(training_data_loader.dataset) + len(validation_data_loader.dataset) + len(test_data_loader.dataset)}\")"
   ]
  },
  {
   "cell_type": "markdown",
   "metadata": {},
   "source": [
    "## Determine input and output shape from the data"
   ]
  },
  {
   "cell_type": "code",
   "execution_count": 4,
   "metadata": {},
   "outputs": [
    {
     "name": "stdout",
     "output_type": "stream",
     "text": [
      "Input shape: torch.Size([22]), Output shape: torch.Size([567])\n"
     ]
    }
   ],
   "source": [
    "input_shape = vprd.get_input_shape(training_data_loader)\n",
    "output_shape = vprd.get_output_shape(training_data_loader)\n",
    "print(f\"Input shape: {input_shape}, Output shape: {output_shape}\")"
   ]
  },
  {
   "cell_type": "markdown",
   "metadata": {},
   "source": [
    "## Create a Multi-Layer-Perceptron Model"
   ]
  },
  {
   "cell_type": "code",
   "execution_count": 5,
   "metadata": {},
   "outputs": [
    {
     "data": {
      "text/plain": [
       "EnergyPredictionMLPModel(\n",
       "  (model): EnergyPredictionMLP(\n",
       "    (layers): Sequential(\n",
       "      (linear_0): Linear(in_features=22, out_features=294, bias=True)\n",
       "      (relu_0): ReLU()\n",
       "      (dropout_0): Dropout(p=0.5, inplace=False)\n",
       "      (output): Linear(in_features=294, out_features=567, bias=True)\n",
       "    )\n",
       "  )\n",
       ")"
      ]
     },
     "execution_count": 5,
     "metadata": {},
     "output_type": "execute_result"
    }
   ],
   "source": [
    "penalty_weight = 0.1\n",
    "mlp = vprd.EnergyPredictionMLPModel(input_shape, output_shape, learning_rate_scheduler_patience=200)\n",
    "mlp.initialize_loss_function(training_data_loader, penalty_weight=penalty_weight)\n",
    "mlp"
   ]
  },
  {
   "cell_type": "markdown",
   "metadata": {},
   "source": [
    "## Train the model"
   ]
  },
  {
   "cell_type": "code",
   "execution_count": 6,
   "metadata": {},
   "outputs": [
    {
     "name": "stderr",
     "output_type": "stream",
     "text": [
      "GPU available: True (mps), used: True\n",
      "TPU available: False, using: 0 TPU cores\n",
      "HPU available: False, using: 0 HPUs\n"
     ]
    }
   ],
   "source": [
    "lr_monitor = LearningRateMonitor(logging_interval='step')\n",
    "early_stopping = EarlyStopping(monitor='val_loss', patience=500)\n",
    "\n",
    "# train the model on a gpu\n",
    "trainer = pl.Trainer(max_epochs=-1, accelerator='gpu', log_every_n_steps=10, callbacks=[lr_monitor, early_stopping], enable_progress_bar=False)\n",
    "\n",
    "# # in case you run into GPU errors in the next cell, train the model on a cpu by commenting out the line above and uncommenting the following line\n",
    "# trainer = pl.Trainer(max_epochs=-1, accelerator='cpu', log_every_n_steps=10, callbacks=[ lr_monitor, early_stopping], enable_progress_bar=False)"
   ]
  },
  {
   "cell_type": "code",
   "execution_count": 7,
   "metadata": {},
   "outputs": [
    {
     "name": "stderr",
     "output_type": "stream",
     "text": [
      "\n",
      "  | Name  | Type                | Params | Mode \n",
      "------------------------------------------------------\n",
      "0 | model | EnergyPredictionMLP | 174 K  | train\n",
      "------------------------------------------------------\n",
      "174 K     Trainable params\n",
      "0         Non-trainable params\n",
      "174 K     Total params\n",
      "0.696     Total estimated model params size (MB)\n",
      "6         Modules in train mode\n",
      "0         Modules in eval mode\n",
      "/Users/korten/Documents/workspace/VPRD/venv/lib/python3.10/site-packages/lightning/pytorch/trainer/connectors/data_connector.py:424: The 'val_dataloader' does not have many workers which may be a bottleneck. Consider increasing the value of the `num_workers` argument` to `num_workers=11` in the `DataLoader` to improve performance.\n",
      "/Users/korten/Documents/workspace/VPRD/venv/lib/python3.10/site-packages/lightning/pytorch/trainer/connectors/data_connector.py:424: The 'train_dataloader' does not have many workers which may be a bottleneck. Consider increasing the value of the `num_workers` argument` to `num_workers=11` in the `DataLoader` to improve performance.\n",
      "/Users/korten/Documents/workspace/VPRD/venv/lib/python3.10/site-packages/lightning/pytorch/loops/fit_loop.py:298: The number of training batches (1) is smaller than the logging interval Trainer(log_every_n_steps=10). Set a lower value for log_every_n_steps if you want to see logs for the training epoch.\n"
     ]
    }
   ],
   "source": [
    "trainer.fit(mlp, training_data_loader, validation_data_loader)"
   ]
  },
  {
   "cell_type": "markdown",
   "metadata": {},
   "source": [
    "## Test the prediction quality"
   ]
  },
  {
   "cell_type": "code",
   "execution_count": 8,
   "metadata": {},
   "outputs": [
    {
     "name": "stderr",
     "output_type": "stream",
     "text": [
      "/Users/korten/Documents/workspace/VPRD/venv/lib/python3.10/site-packages/lightning/pytorch/trainer/connectors/data_connector.py:424: The 'predict_dataloader' does not have many workers which may be a bottleneck. Consider increasing the value of the `num_workers` argument` to `num_workers=11` in the `DataLoader` to improve performance.\n"
     ]
    }
   ],
   "source": [
    "# predict the energy data\n",
    "predictions = trainer.predict(mlp, test_data_loader)\n"
   ]
  },
  {
   "cell_type": "code",
   "execution_count": 9,
   "metadata": {},
   "outputs": [
    {
     "data": {
      "text/plain": [
       "567"
      ]
     },
     "execution_count": 9,
     "metadata": {},
     "output_type": "execute_result"
    }
   ],
   "source": [
    "train_data = next(iter(training_data_loader))\n",
    "mean_data = train_data[1].numpy().mean(axis=0)\n",
    "len(mean_data)"
   ]
  },
  {
   "cell_type": "markdown",
   "metadata": {},
   "source": [
    "### Plot the results\n",
    "\n",
    "we plot the predictions (blue line) vs the measured labels (orange line). In order to assess whether the model just predicts the mean of the training data, we also plot the mean of the training labels (green dotted line)"
   ]
  },
  {
   "cell_type": "code",
   "execution_count": 10,
   "metadata": {},
   "outputs": [],
   "source": [
    "def plot_predictions(idx, predictions, test_data_loader, ax=None):\n",
    "    def inverse_transform(data):\n",
    "        return training_data_loader.dataset.dataset.inverse_transform(data) / 1e9  # in GW\n",
    "    prediction = inverse_transform(predictions[idx])\n",
    "    test_data = next(iter(test_data_loader))\n",
    "    test_data_plot = inverse_transform(test_data[1][idx])\n",
    "    test_data_previous = inverse_transform(test_data[1][idx - 1])\n",
    "    vprd.image_processing.calibrated_lineplot(test_data_previous,  label='Neighboring shot', color='tab:green')\n",
    "    vprd.image_processing.calibrated_lineplot(inverse_transform(mean_data), label='Mean training dataset', color='tab:orange')\n",
    "    ax = vprd.image_processing.calibrated_lineplot(test_data_plot, 'Power (GW)', label='True data', color='tab:red')\n",
    "    vprd.image_processing.calibrated_lineplot(prediction, label='Prediction', color='tab:blue')\n",
    "    # plot the mean as dotted line\n",
    "    ax.lines[1].set_linestyle(\":\")\n",
    "    ax.lines[0].set_linestyle(\"--\")\n",
    "    ax.legend()\n",
    "    mse = nn.MSELoss()(prediction, test_data_plot)\n",
    "    print(f\"MSE: {mse.item()}\")\n",
    "\n",
    "def plot_loss(event_acc, ax=None, yscale='linear', **kwargs):\n",
    "    if ax is None:\n",
    "        fig, ax = plt.subplots()\n",
    "    # plot the training and validation loss in the top left\n",
    "    pd.DataFrame(event_acc.Scalars('train_loss')).plot(x='step', y='value', ax=ax, label='training', **kwargs)\n",
    "    pd.DataFrame(event_acc.Scalars('val_loss')).plot(x='step', y='value', ax=ax, label='validation', **kwargs)\n",
    "    ax.set_yscale(yscale)\n",
    "    ax.set_xlabel('Epoch')\n",
    "    ax.set_ylabel('Loss')\n",
    "    return ax"
   ]
  },
  {
   "cell_type": "code",
   "execution_count": 11,
   "metadata": {},
   "outputs": [
    {
     "name": "stdout",
     "output_type": "stream",
     "text": [
      "MSE: 0.11781402677297592\n"
     ]
    },
    {
     "data": {
      "image/png": "[encoded data removed]",
      "text/plain": [
       "<Figure size 342x342 with 1 Axes>"
      ]
     },
     "metadata": {},
     "output_type": "display_data"
    }
   ],
   "source": [
    "plot_predictions(156, predictions[0], test_data_loader)"
   ]
  },
  {
   "cell_type": "markdown",
   "metadata": {},
   "source": [
    "### Plot loss and prediction\n"
   ]
  },
  {
   "cell_type": "code",
   "execution_count": 12,
   "metadata": {},
   "outputs": [
    {
     "name": "stdout",
     "output_type": "stream",
     "text": [
      "{'images': [], 'audio': [], 'histograms': [], 'scalars': ['hp_metric', 'val_loss', 'epoch', 'lr_scheduler', 'train_loss'], 'distributions': [], 'tensors': [], 'graph': False, 'meta_graph': False, 'run_metadata': []}\n",
      "MSE: 0.11781402677297592\n"
     ]
    },
    {
     "data": {
      "image/png": "[encoded data removed]",
      "text/plain": [
       "<Figure size 1000x400 with 2 Axes>"
      ]
     },
     "metadata": {},
     "output_type": "display_data"
    }
   ],
   "source": [
    "event_acc = EventAccumulator(trainer.lightning_module.logger.log_dir)\n",
    "event_acc.Reload()\n",
    "print(event_acc.Tags())\n",
    "fig, axs = plt.subplots(1, 2, figsize=(10, 4))\n",
    "plot_loss(event_acc, ax=axs[0], yscale='linear')\n",
    "\n",
    "plot_predictions(156, predictions[0], test_data_loader, ax=axs[1])\n",
    "axs[1].legend(loc='lower center')\n",
    "# ax[0].set_title('Prediction vs Measurement')\n",
    "plt.tight_layout()\n",
    "plt.show()\n",
    "\n",
    "# save as svg\n",
    "fig.savefig(local_data_path / f'training_results_penalty{penalty_weight}.svg')"
   ]
  },
  {
   "cell_type": "markdown",
   "metadata": {},
   "source": [
    "### Calculate overall MSE"
   ]
  },
  {
   "cell_type": "code",
   "execution_count": 13,
   "metadata": {},
   "outputs": [
    {
     "name": "stdout",
     "output_type": "stream",
     "text": [
      "torch.Size([282, 567])\n",
      "torch.Size([282, 567])\n"
     ]
    }
   ],
   "source": [
    "test_data = next(iter(test_data_loader))\n",
    "print(test_data[1].shape)\n",
    "print(predictions[0].shape)"
   ]
  },
  {
   "cell_type": "code",
   "execution_count": 14,
   "metadata": {},
   "outputs": [
    {
     "data": {
      "text/plain": [
       "0.00878798495978117"
      ]
     },
     "execution_count": 14,
     "metadata": {},
     "output_type": "execute_result"
    }
   ],
   "source": [
    "test_mse = nn.MSELoss()(predictions[0], next(iter(test_data_loader))[1])\n",
    "test_mse.item()"
   ]
  },
  {
   "cell_type": "markdown",
   "metadata": {},
   "source": [
    "### Compare shot-to-shot error to prediction error"
   ]
  },
  {
   "cell_type": "code",
   "execution_count": 15,
   "metadata": {},
   "outputs": [
    {
     "name": "stdout",
     "output_type": "stream",
     "text": [
      "Prediction error: 0.009 ± 0.0052\n",
      "Mean error: 0.011 ± 0.007\n",
      "Shot to shot error: 0.02 ± 0.014\n"
     ]
    }
   ],
   "source": [
    "prediction_errors = [nn.MSELoss()(predictions_n, energy_shot_n).item() for predictions_n, energy_shot_n in zip(predictions[0], test_data[1])]\n",
    "mean_errors = [nn.MSELoss()(torch.tensor(mean_data), energy_shot_n).item() for energy_shot_n in test_data[1]]\n",
    "shot_to_shot_errors = [nn.MSELoss()(energy_shot_n_plus_1, energy_shot_n).item() for energy_shot_n_plus_1, energy_shot_n in zip(test_data[1][1:], test_data[1][:-1])]\n",
    "print(f\"Prediction error: {np.mean(prediction_errors):.3f} ± {np.std(prediction_errors):.4f}\")\n",
    "print(f\"Mean error: {np.mean(mean_errors):.3f} ± {np.std(mean_errors):.3f}\")\n",
    "print(f\"Shot to shot error: {np.mean(shot_to_shot_errors):.2f} ± {np.std(shot_to_shot_errors):.3f}\")"
   ]
  },
  {
   "cell_type": "code",
   "execution_count": 16,
   "metadata": {},
   "outputs": [
    {
     "name": "stdout",
     "output_type": "stream",
     "text": [
      "Overall shot to shot error: 0.022607935592532158\n",
      "Overall mean test error: 0.011330978013575077\n",
      "Overall prediction error: 0.00879852008074522\n"
     ]
    }
   ],
   "source": [
    "overall_shot_to_shot_error = nn.MSELoss()(test_data[1][1:], test_data[1][:-1]).item()\n",
    "print(f\"Overall shot to shot error: {overall_shot_to_shot_error}\")\n",
    "# repeat mean_data to match the length of the test data\n",
    "mean_data_repeated = torch.tensor(np.asarray([mean_data] * len(test_data[1])))\n",
    "mean_data_repeated.shape\n",
    "overall_mean_test_error = nn.MSELoss()(mean_data_repeated, test_data[1]).item()\n",
    "print(f\"Overall mean test error: {overall_mean_test_error}\")\n",
    "overall_prediction_error = nn.MSELoss()(predictions[0][:-1], test_data[1][:-1]).item()\n",
    "print(f\"Overall prediction error: {overall_prediction_error}\")"
   ]
  },
  {
   "cell_type": "markdown",
   "metadata": {},
   "source": [
    "### Plot the overall errors as a bar plot"
   ]
  },
  {
   "cell_type": "code",
   "execution_count": 17,
   "metadata": {},
   "outputs": [
    {
     "data": {
      "image/png": "[encoded data removed]",
      "text/plain": [
       "<Figure size 342x114 with 1 Axes>"
      ]
     },
     "metadata": {},
     "output_type": "display_data"
    }
   ],
   "source": [
    "fig, axs = plt.subplots(1, 1, figsize=(onecolumn, onecolumn/3))\n",
    "errors = [overall_prediction_error, overall_mean_test_error, overall_shot_to_shot_error]\n",
    "error_labels = ['Prediction', 'Mean', 'Neighbors']\n",
    "sns.barplot(x=errors, y=error_labels, ax=axs)\n",
    "axs.set_xlabel('Mean Squared Error')\n",
    "# increase the font size of the y-axis ticks\n",
    "axs.tick_params(axis='y', labelsize=plt.rcParams['axes.labelsize'])\n",
    "plt.tight_layout()\n",
    "fig.savefig(local_data_path / f'error_summary_penalty{penalty_weight}.svg')"
   ]
  },
  {
   "cell_type": "markdown",
   "metadata": {},
   "source": [
    "## Statistics"
   ]
  },
  {
   "cell_type": "code",
   "execution_count": 18,
   "metadata": {},
   "outputs": [
    {
     "name": "stdout",
     "output_type": "stream",
     "text": [
      "Errors: (median and interquartile range)\n",
      "Prediction: 0.007 (0.0056 - 0.0100)\n",
      "Mean: 0.009 (0.0068 - 0.0134)\n",
      "Neighbors: 0.019 (0.0132 - 0.0270)\n"
     ]
    }
   ],
   "source": [
    "all_errors = np.stack([prediction_errors[1:], mean_errors[1:] ,shot_to_shot_errors], axis=1)\n",
    "error_labels = ['Prediction', 'Mean', 'Neighbors']\n",
    "# create a dataframe with the errors and plot it as a horizontal boxplot\n",
    "dataframe = pd.DataFrame(all_errors, columns=error_labels)\n",
    "# convert the dataframe to a long-form dataframe\n",
    "dataframe_long = dataframe.melt(var_name='error_type', value_name='error')\n",
    "\n",
    "print(\"Errors: (median and interquartile range)\")\n",
    "for i, error_type in enumerate(error_labels):\n",
    "    median_error = np.median(all_errors[:, i])\n",
    "    quartile_1 = np.percentile(all_errors[:, i], 25)\n",
    "    quartile_3 = np.percentile(all_errors[:, i], 75)\n",
    "    print(f\"{error_type}: {median_error:.3f} ({quartile_1:.4f} - {quartile_3:.4f})\")\n",
    "    # axs[3].text(0.04, i, f'{mean_error:.3f} ± {std_error:.4f} n={len(test_data_loader.dataset) - 1}', verticalalignment='center', fontsize=6)"
   ]
  },
  {
   "cell_type": "code",
   "execution_count": 19,
   "metadata": {},
   "outputs": [
    {
     "data": {
      "text/html": [
       "<div>\n",
       "<style scoped>\n",
       "    .dataframe tbody tr th:only-of-type {\n",
       "        vertical-align: middle;\n",
       "    }\n",
       "\n",
       "    .dataframe tbody tr th {\n",
       "        vertical-align: top;\n",
       "    }\n",
       "\n",
       "    .dataframe thead th {\n",
       "        text-align: right;\n",
       "    }\n",
       "</style>\n",
       "<table border=\"1\" class=\"dataframe\">\n",
       "  <thead>\n",
       "    <tr style=\"text-align: right;\">\n",
       "      <th></th>\n",
       "      <th>Prediction</th>\n",
       "      <th>Mean</th>\n",
       "      <th>Neighbors</th>\n",
       "    </tr>\n",
       "  </thead>\n",
       "  <tbody>\n",
       "    <tr>\n",
       "      <th>0</th>\n",
       "      <td>0.009148</td>\n",
       "      <td>0.005601</td>\n",
       "      <td>0.019617</td>\n",
       "    </tr>\n",
       "    <tr>\n",
       "      <th>1</th>\n",
       "      <td>0.010961</td>\n",
       "      <td>0.007740</td>\n",
       "      <td>0.014682</td>\n",
       "    </tr>\n",
       "    <tr>\n",
       "      <th>2</th>\n",
       "      <td>0.004329</td>\n",
       "      <td>0.007116</td>\n",
       "      <td>0.013822</td>\n",
       "    </tr>\n",
       "    <tr>\n",
       "      <th>3</th>\n",
       "      <td>0.012531</td>\n",
       "      <td>0.008566</td>\n",
       "      <td>0.018147</td>\n",
       "    </tr>\n",
       "    <tr>\n",
       "      <th>4</th>\n",
       "      <td>0.010213</td>\n",
       "      <td>0.017334</td>\n",
       "      <td>0.019496</td>\n",
       "    </tr>\n",
       "    <tr>\n",
       "      <th>...</th>\n",
       "      <td>...</td>\n",
       "      <td>...</td>\n",
       "      <td>...</td>\n",
       "    </tr>\n",
       "    <tr>\n",
       "      <th>276</th>\n",
       "      <td>0.012892</td>\n",
       "      <td>0.020567</td>\n",
       "      <td>0.046555</td>\n",
       "    </tr>\n",
       "    <tr>\n",
       "      <th>277</th>\n",
       "      <td>0.005710</td>\n",
       "      <td>0.004943</td>\n",
       "      <td>0.028928</td>\n",
       "    </tr>\n",
       "    <tr>\n",
       "      <th>278</th>\n",
       "      <td>0.011081</td>\n",
       "      <td>0.014732</td>\n",
       "      <td>0.019343</td>\n",
       "    </tr>\n",
       "    <tr>\n",
       "      <th>279</th>\n",
       "      <td>0.007569</td>\n",
       "      <td>0.013097</td>\n",
       "      <td>0.021301</td>\n",
       "    </tr>\n",
       "    <tr>\n",
       "      <th>280</th>\n",
       "      <td>0.005827</td>\n",
       "      <td>0.013656</td>\n",
       "      <td>0.017886</td>\n",
       "    </tr>\n",
       "  </tbody>\n",
       "</table>\n",
       "<p>281 rows × 3 columns</p>\n",
       "</div>"
      ],
      "text/plain": [
       "     Prediction      Mean  Neighbors\n",
       "0      0.009148  0.005601   0.019617\n",
       "1      0.010961  0.007740   0.014682\n",
       "2      0.004329  0.007116   0.013822\n",
       "3      0.012531  0.008566   0.018147\n",
       "4      0.010213  0.017334   0.019496\n",
       "..          ...       ...        ...\n",
       "276    0.012892  0.020567   0.046555\n",
       "277    0.005710  0.004943   0.028928\n",
       "278    0.011081  0.014732   0.019343\n",
       "279    0.007569  0.013097   0.021301\n",
       "280    0.005827  0.013656   0.017886\n",
       "\n",
       "[281 rows x 3 columns]"
      ]
     },
     "execution_count": 19,
     "metadata": {},
     "output_type": "execute_result"
    }
   ],
   "source": [
    "dataframe"
   ]
  },
  {
   "cell_type": "code",
   "execution_count": 20,
   "metadata": {},
   "outputs": [
    {
     "name": "stdout",
     "output_type": "stream",
     "text": [
      "Wilcoxon signed-rank test for prediction vs mean: WilcoxonResult(statistic=np.float64(9603.0), pvalue=np.float64(7.060216075383809e-14))\n",
      "Wilcoxon signed-rank test for prediction vs neighbors: WilcoxonResult(statistic=np.float64(980.0), pvalue=np.float64(2.1776770916385417e-43))\n",
      "Wilcoxon signed-rank test for mean vs neighbors: WilcoxonResult(statistic=np.float64(1480.0), pvalue=np.float64(3.3117312942171807e-41))\n",
      "Corrected p-values: [2.11806482e-13 6.53303127e-43 9.93519388e-41]\n",
      "Reject null hypothesis: [ True  True  True]\n"
     ]
    }
   ],
   "source": [
    "# perform a wilcoxon signed-rank test to test whether predictions are significantly lower than mean and neighbors\n",
    "wilcoxon_test_prediction_mean = stats.wilcoxon(dataframe['Prediction'], dataframe['Mean'])\n",
    "print(f\"Wilcoxon signed-rank test for prediction vs mean: {wilcoxon_test_prediction_mean}\")\n",
    "wilcoxon_test_prediction_neighbors = stats.wilcoxon(dataframe['Prediction'], dataframe['Neighbors'])\n",
    "print(f\"Wilcoxon signed-rank test for prediction vs neighbors: {wilcoxon_test_prediction_neighbors}\")\n",
    "wilcoxon_test_mean_neighbors = stats.wilcoxon(dataframe['Mean'], dataframe['Neighbors'])\n",
    "print(f\"Wilcoxon signed-rank test for mean vs neighbors: {wilcoxon_test_mean_neighbors}\")\n",
    "\n",
    "# apply a bonferroni correction to the p-values\n",
    "p_values = [wilcoxon_test_prediction_mean.pvalue, wilcoxon_test_prediction_neighbors.pvalue, wilcoxon_test_mean_neighbors.pvalue]\n",
    "reject, corrected_p_values, _, _ = multipletests(p_values, method='bonferroni', alpha=0.01)\n",
    "print(f\"Corrected p-values: {corrected_p_values}\")\n",
    "print(f\"Reject null hypothesis: {reject}\")"
   ]
  },
  {
   "cell_type": "markdown",
   "metadata": {},
   "source": [
    "## Figure"
   ]
  },
  {
   "cell_type": "code",
   "execution_count": 21,
   "metadata": {},
   "outputs": [
    {
     "name": "stdout",
     "output_type": "stream",
     "text": [
      "MSE: 0.11781402677297592\n"
     ]
    },
    {
     "data": {
      "image/png": "[encoded data removed]",
      "text/plain": [
       "<Figure size 705x423 with 4 Axes>"
      ]
     },
     "metadata": {},
     "output_type": "display_data"
    }
   ],
   "source": [
    "event_acc = EventAccumulator(trainer.lightning_module.logger.log_dir)\n",
    "event_acc.Reload()\n",
    "figure_grid = (3, 5)\n",
    "fig = plt.figure(figsize=(textwidth, textwidth * 0.6))\n",
    "# plot the training and validation loss in the top left\n",
    "axs = []\n",
    "axs.append(plt.subplot2grid(figure_grid, (0, 0), rowspan=2, colspan=1, fig=fig))\n",
    "plot_loss(event_acc, ax=axs[0])\n",
    "axs[0].set_title('(a)', x=-0.6, y=1.0, loc='left', pad=-plt.rcParams['axes.titlesize'])\n",
    "axs[0].legend(fontsize=6)\n",
    "\n",
    "# plot the training and validation loss in log scale\n",
    "axs.append(plt.subplot2grid(figure_grid, (0, 1), rowspan=2, colspan=1, fig=fig))\n",
    "plot_loss(event_acc, ax=axs[1], yscale='log')\n",
    "axs[1].set_title('(b)', x=-0.7, y=1.0, loc='left', pad=-plt.rcParams['axes.titlesize'])\n",
    "axs[1].legend(fontsize=6)\n",
    "\n",
    "# plot the prediction vs measurement in the top right\n",
    "axs.append(plt.subplot2grid(figure_grid, (0, 2), rowspan=2, colspan=3, fig=fig))\n",
    "plot_predictions(156, predictions[0], test_data_loader, ax=axs[2])\n",
    "axs[2].legend(loc='lower center')\n",
    "axs[2].set_title('(c)', x=-0.12, y=1.0, loc='left', pad=-plt.rcParams['axes.titlesize'])\n",
    "# axs[2].legend(loc='upper center', bbox_to_anchor=(0.5, -0.2)) # place the legend below the axis\n",
    "\n",
    "# plot the error summary in the bottom row\n",
    "axs.append(plt.subplot2grid(figure_grid, (2, 0), colspan=figure_grid[1], fig=fig))\n",
    "sns.boxplot(data=dataframe, ax=axs[3], orient='h', fliersize=3)\n",
    "\n",
    "axs[3].set_xlabel('Mean Squared Error')\n",
    "# increase the font size of the y-axis ticks\n",
    "axs[3].tick_params(axis='y', labelsize=plt.rcParams['axes.labelsize'])\n",
    "axs[3].set_title('(d)', x=-0.06, y=1.0, loc='left', pad=-plt.rcParams['axes.titlesize'] / 3)\n",
    "\n",
    "plt.tight_layout()\n",
    "\n",
    "# save as svg\n",
    "fig.savefig(local_data_path / f'training_results_penalty{penalty_weight}.svg')"
   ]
  },
  {
   "cell_type": "markdown",
   "metadata": {},
   "source": [
    "## Benchmark the prediction"
   ]
  },
  {
   "cell_type": "code",
   "execution_count": 22,
   "metadata": {},
   "outputs": [
    {
     "name": "stderr",
     "output_type": "stream",
     "text": [
      "/Users/korten/Documents/workspace/VPRD/venv/lib/python3.10/site-packages/lightning/pytorch/trainer/connectors/data_connector.py:424: The 'predict_dataloader' does not have many workers which may be a bottleneck. Consider increasing the value of the `num_workers` argument` to `num_workers=11` in the `DataLoader` to improve performance.\n"
     ]
    },
    {
     "name": "stdout",
     "output_type": "stream",
     "text": [
      "4.67 ms ± 111 μs per loop (mean ± std. dev. of 7 runs, 100 loops each)\n"
     ]
    }
   ],
   "source": [
    "%%timeit\n",
    "predictions = trainer.predict(mlp, test_data_loader)\n"
   ]
  },
  {
   "cell_type": "code",
   "execution_count": 23,
   "metadata": {},
   "outputs": [
    {
     "name": "stdout",
     "output_type": "stream",
     "text": [
      "Time per shot: 16.1 ± 0.80 µs\n"
     ]
    }
   ],
   "source": [
    "print(f\"Time per shot: {4.53 * 1000 / len(test_data_loader.dataset):.1f} ± {227 / len(test_data_loader.dataset):.2f} µs\")"
   ]
  },
  {
   "cell_type": "code",
   "execution_count": null,
   "metadata": {},
   "outputs": [],
   "source": []
  }
 ],
 "metadata": {
  "kernelspec": {
   "display_name": "Python 3 (ipykernel)",
   "language": "python",
   "name": "python3"
  },
  "language_info": {
   "codemirror_mode": {
    "name": "ipython",
    "version": 3
   },
   "file_extension": ".py",
   "mimetype": "text/x-python",
   "name": "python",
   "nbconvert_exporter": "python",
   "pygments_lexer": "ipython3",
   "version": "3.10.14"
  }
 },
 "nbformat": 4,
 "nbformat_minor": 4
}
